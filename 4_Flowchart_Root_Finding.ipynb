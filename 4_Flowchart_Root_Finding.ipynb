{
  "nbformat": 4,
  "nbformat_minor": 0,
  "metadata": {
    "colab": {
      "provenance": [],
      "authorship_tag": "ABX9TyNf1cmDydgrejE9uR2syeBn"
    },
    "kernelspec": {
      "name": "python3",
      "display_name": "Python 3"
    },
    "language_info": {
      "name": "python"
    }
  },
  "cells": [
    {
      "cell_type": "markdown",
      "source": [],
      "metadata": {
        "id": "ZUMbnYTgLjFt"
      }
    },
    {
      "cell_type": "code",
      "execution_count": 4,
      "metadata": {
        "colab": {
          "base_uri": "https://localhost:8080/",
          "height": 1000
        },
        "id": "zAtfBqCgLNf0",
        "outputId": "e0ffd417-873b-4ca2-991f-cd9376e84f3e"
      },
      "outputs": [
        {
          "output_type": "display_data",
          "data": {
            "text/html": [
              "<img src=\"https://mermaid.ink/img/CmdyYXBoIFRECiAgICBCKFsiQmVnaW4iXSkgLS0+IAogICAgSVsvIng8c3ViPjA8L3N1Yj4sIHg8c3ViPjE8L3N1Yj4sIDxicj5mKHgpIi9dIC0tPiAKICAgIFAxWyJpID0gMiJdIC0tPiAKICAgIG8xKCgiICIpKSAtLT4KICAgIFAyWyJmJyh4PHN1Yj5pLTE8L3N1Yj4pID0gW2YoeDxzdWI+aS0xPC9zdWI+KSAmbWRhc2g7IGYoeDxzdWI+aS0yPC9zdWI+KV08YnI+ICAgICAgLyAoeDxzdWI+aS0xPC9zdWI+ICZtZGFzaDsgeDxzdWI+aS0yPC9zdWI+KSJdIC0tPgogICAgUDNbIiZEZWx0YTt4ID0gZih4PHN1Yj5pLTE8L3N1Yj4pIC8gZicoeDxzdWI+aS0xPC9zdWI+KSJdLS0+CiAgICBQNFsieDxzdWI+aTwvc3ViPiA9IHg8c3ViPmktMTwvc3ViPiAgICAgICZtZGFzaDsgJkRlbHRhO3giXSAtLT4KICAgIFA1WyImZXBzaWxvbjsgPSB8Zih4PHN1Yj5pPC9zdWI+KXwiXSAtLT4KICAgIEN7IiZlcHNpbG9uOyAmbGU7ICZlcHNpbG9uOzxzdWI+bWF4PC9zdWI+In0gLS0+CiAgICB8bm98IFA2WyJpID0gaSArIDEiXSAgCiAgICBDeyImZXBzaWxvbjsgJmxlOyAmZXBzaWxvbjs8c3ViPm1heDwvc3ViPiJ9IC0tPiB8eWVzfCBPWy8ieDxzdWI+aTwvc3ViPiIvXQogICAgUDZbImkgPSBpICsgMSJdLS0+IG8xKCgiICIpKSAKICAgIE9bLyJ4PHN1Yj5pPC9zdWI+Ii9dLS0+RShbIkVuZCJdKQogICAgCiAgICAK?!white\"/>"
            ],
            "text/plain": [
              "<IPython.core.display.Image object>"
            ]
          },
          "metadata": {}
        }
      ],
      "source": [
        "# Modify following lines of code in order to produce right flowchart for finding root using secant method.\n",
        "\n",
        "\n",
        "import base64\n",
        "from IPython.display import Image, display\n",
        "import matplotlib.pyplot as plt\n",
        "\n",
        "def mermaid(graph, **kwargs):\n",
        "    graphbytes = graph.encode('ascii')\n",
        "    base64_bytes = base64.b64encode(graphbytes)\n",
        "    base64_string = base64_bytes.decode('ascii')\n",
        "    bgcolor = '!white'\n",
        "    display(\n",
        "        Image(\n",
        "            url='https://mermaid.ink/img/'\n",
        "            + base64_string + '?' + bgcolor\n",
        "            )\n",
        "    )\n",
        "\n",
        "g = \"\"\"\n",
        "graph TD\n",
        "    B([\"Begin\"]) --> \n",
        "    I[/\"x<sub>0</sub>, x<sub>1</sub>, <br>f(x)\"/] --> \n",
        "    P1[\"i = 2\"] --> \n",
        "    o1((\" \")) -->\n",
        "    P2[\"f'(x<sub>i-1</sub>) = [f(x<sub>i-1</sub>) &mdash; f(x<sub>i-2</sub>)]<br>\\\n",
        "      / (x<sub>i-1</sub> &mdash; x<sub>i-2</sub>)\"] -->\n",
        "    P3[\"&Delta;x = f(x<sub>i-1</sub>) / f'(x<sub>i-1</sub>)\"]-->\n",
        "    P4[\"x<sub>i</sub> = x<sub>i-1</sub>\\\n",
        "      &mdash; &Delta;x\"] -->\n",
        "    P5[\"&epsilon; = |f(x<sub>i</sub>)|\"] -->\n",
        "    C{\"&epsilon; &le; &epsilon;<sub>max</sub>\"} -->\n",
        "    |no| P6[\"i = i + 1\"]  \n",
        "    C{\"&epsilon; &le; &epsilon;<sub>max</sub>\"} --> |yes| O[/\"x<sub>i</sub>\"/]\n",
        "    P6[\"i = i + 1\"]--> o1((\" \")) \n",
        "    O[/\"x<sub>i</sub>\"/]-->E([\"End\"])\n",
        "    \n",
        "    \n",
        "\"\"\"\n",
        "mermaid(g)"
      ]
    },
    {
      "cell_type": "code",
      "source": [
        "def f(x):\n",
        "    return x**3 - 2*x**2 + x - 1"
      ],
      "metadata": {
        "id": "wp-CczC9Ogg4"
      },
      "execution_count": null,
      "outputs": []
    },
    {
      "cell_type": "code",
      "source": [
        "# Make a function smaller_root_range(f, xbeg, xend, dx) using f(x) from xbeg = -1 until xend = 2 with dx = 0.1 that return smaller range xleft, xright, where \n",
        "\n",
        "def smaller_root_range(f, xbeg, xend, dx):\n",
        "    xleft = None\n",
        "    xright = None\n",
        "    xroot = None\n",
        "    \n",
        "    x = xbeg\n",
        "    while x < xend:\n",
        "        y1 = f(x)\n",
        "        y2 = f(x+dx)\n",
        "        if y1 * y2 < 0:\n",
        "            xroot = x + dx * abs(y1) / (abs(y1) + abs(y2))\n",
        "            if xroot < (x + dx/2):\n",
        "                if xleft is None or xroot > xleft:\n",
        "                    xleft = xroot\n",
        "            else:\n",
        "                if xright is None or xroot < xright:\n",
        "                    xright = xroot\n",
        "        x += dx\n",
        "    \n",
        "    return xleft, xright\n",
        "\n",
        "def f(x):\n",
        "    return x**3 - 2*x**2 + x - 1\n",
        "\n",
        "xleft, xright = smaller_root_range(f, 0, 2, 0.1)\n",
        "\n",
        "if xleft is None or xright is None:\n",
        "    print(\"Tidak ada akar yang ditemukan di rentang ini.\")\n",
        "else:\n",
        "    print(\"Rentang akar yang lebih kecil adalah: [{:.3f}, {:.3f}], Delta x = {:.3f}\".format(xleft, xright, xright - xleft))\n"
      ],
      "metadata": {
        "colab": {
          "base_uri": "https://localhost:8080/"
        },
        "id": "07TsBjgzL60Z",
        "outputId": "9474abcd-7a67-434d-b8a8-8d280042c58d"
      },
      "execution_count": 10,
      "outputs": [
        {
          "output_type": "stream",
          "name": "stdout",
          "text": [
            "Tidak ada akar yang ditemukan di rentang ini.\n"
          ]
        }
      ]
    },
    {
      "cell_type": "code",
      "source": [
        "# Make function for secant method root_secant() and use function f(x) to find the root with initial conditions are previous values of xbeg and xend. Compare the result from this method with previous method.\n",
        "\n",
        "n = int(input())\n",
        "\n",
        "xroot = []\n",
        "yroot = []\n",
        "\n",
        "y0 = f(xbeg)\n",
        "xroot.append(x0)\n",
        "yroot.append(y0)\n",
        "\n",
        "y1 = f(xend)\n",
        "xroot.append(x1)\n",
        "yroot.append(y1)\n",
        "\n",
        "def root_secant(f, x0, x1, eps=1e-6, max_iter=100):\n",
        "    for i in range(max_iter):\n",
        "        fx0 = f(x0)\n",
        "        fx1 = f(x1)\n",
        "        x2 = x1 - fx1*(x1 - x0)/(fx1 - fx0)\n",
        "        if abs(x2 - x1) < eps:\n",
        "            return x2\n",
        "        x0 = x1\n",
        "        x1 = x2\n",
        "        \n",
        "        xroot.append(x2)\n",
        "        dx = abs(f(x2))\n",
        "\n",
        "        print(f\"{i:04d}\", f\"{x2:.6E}\", f\"{f(x2):+.6E}\")\n",
        "        i += 1\n"
      ],
      "metadata": {
        "colab": {
          "base_uri": "https://localhost:8080/",
          "height": 253
        },
        "id": "dUUEa56yO4zm",
        "outputId": "6d68111a-52cf-4f1f-dd38-5c951ccaec56"
      },
      "execution_count": 19,
      "outputs": [
        {
          "name": "stdout",
          "output_type": "stream",
          "text": [
            "3\n"
          ]
        },
        {
          "output_type": "error",
          "ename": "NameError",
          "evalue": "ignored",
          "traceback": [
            "\u001b[0;31m---------------------------------------------------------------------------\u001b[0m",
            "\u001b[0;31mNameError\u001b[0m                                 Traceback (most recent call last)",
            "\u001b[0;32m<ipython-input-19-be0ada2a1922>\u001b[0m in \u001b[0;36m<module>\u001b[0;34m\u001b[0m\n\u001b[1;32m      6\u001b[0m \u001b[0myroot\u001b[0m \u001b[0;34m=\u001b[0m \u001b[0;34m[\u001b[0m\u001b[0;34m]\u001b[0m\u001b[0;34m\u001b[0m\u001b[0;34m\u001b[0m\u001b[0m\n\u001b[1;32m      7\u001b[0m \u001b[0;34m\u001b[0m\u001b[0m\n\u001b[0;32m----> 8\u001b[0;31m \u001b[0my0\u001b[0m \u001b[0;34m=\u001b[0m \u001b[0mf\u001b[0m\u001b[0;34m(\u001b[0m\u001b[0mxbeg\u001b[0m\u001b[0;34m)\u001b[0m\u001b[0;34m\u001b[0m\u001b[0;34m\u001b[0m\u001b[0m\n\u001b[0m\u001b[1;32m      9\u001b[0m \u001b[0mxroot\u001b[0m\u001b[0;34m.\u001b[0m\u001b[0mappend\u001b[0m\u001b[0;34m(\u001b[0m\u001b[0mx0\u001b[0m\u001b[0;34m)\u001b[0m\u001b[0;34m\u001b[0m\u001b[0;34m\u001b[0m\u001b[0m\n\u001b[1;32m     10\u001b[0m \u001b[0myroot\u001b[0m\u001b[0;34m.\u001b[0m\u001b[0mappend\u001b[0m\u001b[0;34m(\u001b[0m\u001b[0my0\u001b[0m\u001b[0;34m)\u001b[0m\u001b[0;34m\u001b[0m\u001b[0;34m\u001b[0m\u001b[0m\n",
            "\u001b[0;31mNameError\u001b[0m: name 'xbeg' is not defined"
          ]
        }
      ]
    }
  ]
}