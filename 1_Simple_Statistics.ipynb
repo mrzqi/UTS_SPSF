{
  "nbformat": 4,
  "nbformat_minor": 0,
  "metadata": {
    "colab": {
      "provenance": [],
      "authorship_tag": "ABX9TyMO7GL79peKedbPltbwSYpn"
    },
    "kernelspec": {
      "name": "python3",
      "display_name": "Python 3"
    },
    "language_info": {
      "name": "python"
    }
  },
  "cells": [
    {
      "cell_type": "code",
      "execution_count": null,
      "metadata": {
        "colab": {
          "base_uri": "https://localhost:8080/"
        },
        "id": "wuRrCDnO5ShD",
        "outputId": "84a3672a-d77e-440a-e2e7-812f8345d09a"
      },
      "outputs": [
        {
          "output_type": "stream",
          "name": "stdout",
          "text": [
            "x_i = \n",
            "1\n",
            "Nilai data ke- 1 adalah:  4\n",
            "Banyaknya 4 pada data X adalah: 3\n"
          ]
        }
      ],
      "source": [
        "X = [4,7,5,1,3,6,4,8,5,7,2,5,6,3,9,6,8,5,7,4]   #Data\n",
        "\n",
        "# Mencari x dari X\n",
        "print(\"x_i = \")\n",
        "x_i = input()\n",
        "x = int(xi)\n",
        "\n",
        "print(\"Nilai data ke-\", x_i, \"adalah: \", X[x-1])\n",
        "\n",
        "# Mencari N dari x\n",
        "count = 0\n",
        "for i in range(len(X)):\n",
        "    if X[i] == X[x-1]:\n",
        "        count += 1\n",
        "\n",
        "print(\"Banyaknya\", X[x-1], \"pada data X adalah:\", count)"
      ]
    },
    {
      "cell_type": "code",
      "source": [
        "# mean\n",
        "x_mean = sum(X) / len(X)\n",
        "print(\"Mean dari data X adalah: \", x_mean)\n",
        "\n",
        "# median\n",
        "X_sorted = sorted(X)\n",
        "mid = len(X_sorted) // 2\n",
        "x_med = (X_sorted[mid] + X_sorted[-mid-1]) / 2\n",
        "print(\"Median dari data X adalah: \", x_med)\n",
        "\n",
        "# mode\n",
        "freq = {}\n",
        "for x in X:\n",
        "    if x in freq:\n",
        "        freq[x] += 1\n",
        "    else:\n",
        "        freq[x] = 1\n",
        "\n",
        "x_mode = None\n",
        "max_freq = 0\n",
        "for x in freq:\n",
        "    if freq[x] > max_freq:\n",
        "        x_mode = x\n",
        "        max_freq = freq[x]\n",
        "\n",
        "print(\"Modus dari data X adalah: \", x_mode)\n",
        "\n",
        "print(\"Data yang telah diurutkan:\")\n",
        "print(X_sorted)"
      ],
      "metadata": {
        "colab": {
          "base_uri": "https://localhost:8080/"
        },
        "id": "dRzdVCWV6icn",
        "outputId": "abf1cb25-4909-49b9-e554-936a9cc592d4"
      },
      "execution_count": null,
      "outputs": [
        {
          "output_type": "stream",
          "name": "stdout",
          "text": [
            "Mean dari data X adalah:  5.25\n",
            "Median dari data X adalah:  5.0\n",
            "Modus dari data X adalah:  5\n",
            "Data yang telah diurutkan:\n",
            "[1, 2, 3, 3, 4, 4, 4, 5, 5, 5, 5, 6, 6, 6, 7, 7, 7, 8, 8, 9]\n"
          ]
        }
      ]
    },
    {
      "cell_type": "code",
      "source": [
        "# Nilai maksimum dari data X\n",
        "x_max = max(X)\n",
        "print(\"Nilai maksimum dari data X adalah\", x_max)\n",
        "\n",
        "# Nilai minimum dari data X\n",
        "x_min = min(X)\n",
        "print(\"Nilai minimum dari data X adalah\", x_min)\n",
        "\n",
        "# Range dari data X\n",
        "x_range = max(X)-min(X)\n",
        "print(\"Nilai range dari data X adalah\", x_range)"
      ],
      "metadata": {
        "colab": {
          "base_uri": "https://localhost:8080/"
        },
        "id": "J66rs_kH96xr",
        "outputId": "3c965c6e-0a3f-4c94-c8a4-260ace6e2a69"
      },
      "execution_count": null,
      "outputs": [
        {
          "output_type": "stream",
          "name": "stdout",
          "text": [
            "Nilai maksimum dari data X adalah 9\n",
            "Nilai minimum dari data X adalah 1\n",
            "Nilai range dari data X adalah 8\n"
          ]
        }
      ]
    },
    {
      "cell_type": "code",
      "source": [
        "# Variance\n",
        "var = [(x - x_mean) ** 2 for x in X]\n",
        "x_var = sum(var) / len(X)\n",
        "print(\"Variansi: \", x_var)\n",
        "\n",
        "# Standar Deviasi\n",
        "x_sdev = x_var ** 0.5\n",
        "print(\"Standar Deviasi: \", x_sdev)\n"
      ],
      "metadata": {
        "colab": {
          "base_uri": "https://localhost:8080/"
        },
        "id": "yanPFbaJAxnK",
        "outputId": "8cb1c65b-fe96-4365-f2f2-37118d4421ea"
      },
      "execution_count": null,
      "outputs": [
        {
          "output_type": "stream",
          "name": "stdout",
          "text": [
            "Variansi:  4.1875\n",
            "Standar Deviasi:  2.0463381929681126\n"
          ]
        }
      ]
    }
  ]
}