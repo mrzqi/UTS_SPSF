{
  "nbformat": 4,
  "nbformat_minor": 0,
  "metadata": {
    "colab": {
      "provenance": [],
      "authorship_tag": "ABX9TyMVXpAM2QNgQrhU1efIKFyE"
    },
    "kernelspec": {
      "name": "python3",
      "display_name": "Python 3"
    },
    "language_info": {
      "name": "python"
    }
  },
  "cells": [
    {
      "cell_type": "code",
      "execution_count": 1,
      "metadata": {
        "id": "nddgO4tcF3po"
      },
      "outputs": [],
      "source": [
        "# Write function linear_regression() to calculate c_0 and c_1 with input parameters are x and y, where both are list with the same length.\n",
        "\n",
        "def linear_regression(x, y):\n",
        "    n = len(x)\n",
        "    x_mean = sum(x) / n\n",
        "    y_mean = sum(y) / n\n",
        "    ss_xy = sum(xi * yi for xi, yi in zip(x, y)) - n * x_mean * y_mean\n",
        "    ss_xx = sum(xi**2 for xi in x) - n * x_mean**2\n",
        "    c_1 = ss_xy / ss_xx\n",
        "    c_0 = y_mean - c_1 * x_mean\n",
        "    return c_0, c_1"
      ]
    },
    {
      "cell_type": "code",
      "source": [
        "# Write functions linear_interpol() to calculate linear interpolation with input parameters are x and y, where both are list with the same length.\n",
        "\n",
        "def linear_interpol(x, y, x_interpol):\n",
        "    n = len(x)\n",
        "    for i in range(n-1):\n",
        "        if x_interpol >= x[i] and x_interpol <= x[i+1]:\n",
        "            # Hitung gradien\n",
        "            m = (y[i+1] - y[i]) / (x[i+1] - x[i])\n",
        "\n",
        "            # Hitung offset\n",
        "            b = y[i] - m*x[i]\n",
        "\n",
        "            # Hitung nilai y hasil interpolasi linear\n",
        "            y_interpol = m*x_interpol + b\n",
        "\n",
        "            return y_interpol"
      ],
      "metadata": {
        "id": "_jS_eRtHGkoO"
      },
      "execution_count": 3,
      "outputs": []
    },
    {
      "cell_type": "code",
      "source": [
        "# Write functions lagrange_interpol() to calculate Lagrange polynomial interpolation with input parameters are x and y, where both are list with the same length.\n",
        "\n",
        "def lagrange_interpol(x, y, z):\n",
        "    n = len(x)\n",
        "    p = 0\n",
        "    for i in range(n):\n",
        "        LI = 1\n",
        "        for j in range(n):\n",
        "            if i != j:\n",
        "                LI *= (z - x[j])/(x[i] - x[j])\n",
        "        p += y[i]*li\n",
        "    return p"
      ],
      "metadata": {
        "id": "nLQp7ef-IHOE"
      },
      "execution_count": 5,
      "outputs": []
    },
    {
      "cell_type": "code",
      "source": [
        "import numpy as np\n",
        "import matplotlib.pyplot as plt\n",
        "\n",
        "# Fungsi regresi linear\n",
        "def linear_regression(x, y):\n",
        "    n = len(x)\n",
        "    x_mean = np.mean(x)\n",
        "    y_mean = np.mean(y)\n",
        "    sum_xy = np.sum(x * y)\n",
        "    sum_xx = np.sum(x * x)\n",
        "\n",
        "    # Mencari koefisien regresi\n",
        "    c_1 = (sum_xy - n * x_mean * y_mean) / (sum_xx - n * x_mean * x_mean)\n",
        "    c_0 = y_mean - c_1 * x_mean\n",
        "\n",
        "    return c_0, c_1\n",
        "\n",
        "# Fungsi interpolasi linear\n",
        "def linear_interpol(x, y, x_interp):\n",
        "    c_0, c_1 = linear_regression(x, y)\n",
        "    y_interp = c_0 + c_1 * x_interp\n",
        "    return y_interp\n",
        "\n",
        "# Fungsi interpolasi polinomial Lagrange\n",
        "def lagrange_interpol(x, y, x_interp):\n",
        "    n = len(x)\n",
        "    y_interp = np.zeros_like(x_interp)\n",
        "    for i in range(n):\n",
        "        p = 1\n",
        "        for j in range(n):\n",
        "            if i != j:\n",
        "                p *= (x_interp - x[j]) / (x[i] - x[j])\n",
        "        y_interp += y[i] * p\n",
        "    return y_interp\n",
        "\n",
        "# Data\n",
        "x = np.array([0, 1, 2, 3, 4, 5])\n",
        "y = np.array([4, 7, 5, 1, 3, 6])\n",
        "\n",
        "# Plot data\n",
        "plt.plot(x, y, 'bo', label='Data')\n",
        "\n",
        "# Plot regresi linear\n",
        "c_0, c_1 = linear_regression(x, y)\n",
        "x_reg = np.linspace(0, 5, 100)\n",
        "y_reg = c_0 + c_1 * x_reg\n",
        "plt.plot(x_reg, y_reg, 'r-', label='Regresi Linear')\n",
        "\n",
        "# Plot interpolasi linear\n",
        "x_interp = np.array([1.5, 3.5])\n",
        "y_interp = linear_interpol(x, y, x_interp)\n",
        "plt.plot(x_interp, y_interp, 'gx', label='Interpolasi Linear')\n",
        "\n",
        "# Plot interpolasi Lagrange\n",
        "x_interp = np.linspace(0, 5, 100)\n",
        "y_interp = lagrange_interpol(x, y, x_interp)\n",
        "plt.plot(x_interp, y_interp, 'm-', label='Interpolasi Lagrange')\n",
        "\n",
        "# Label plot\n",
        "plt.title('Contoh Kurva')\n",
        "plt.xlabel('X')\n",
        "plt.ylabel('Y')\n",
        "plt.legend()\n",
        "\n",
        "# Tampilkan plot\n",
        "plt.show()\n"
      ],
      "metadata": {
        "colab": {
          "base_uri": "https://localhost:8080/",
          "height": 295
        },
        "id": "AdUgPtAhKmem",
        "outputId": "b2267c89-5fa8-43a0-b93f-3b24f02f3867"
      },
      "execution_count": 17,
      "outputs": [
        {
          "output_type": "display_data",
          "data": {
            "text/plain": [
              "<Figure size 432x288 with 1 Axes>"
            ],
            "image/png": "[encoded data removed]"
          },
          "metadata": {
            "needs_background": "light"
          }
        }
      ]
    }
  ]
}